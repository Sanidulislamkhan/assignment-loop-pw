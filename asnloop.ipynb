{
 "cells": [
  {
   "cell_type": "code",
   "execution_count": 1,
   "id": "aa296a1b-34f3-4d20-baf9-fe56f6c504c9",
   "metadata": {},
   "outputs": [
    {
     "name": "stdout",
     "output_type": "stream",
     "text": [
      "1\n",
      "2\n",
      "3\n",
      "4\n",
      "5\n"
     ]
    }
   ],
   "source": [
    "# 1.  Print numbers from 1 to 5 using a while loop\n",
    "i=1\n",
    "while i<=5:\n",
    "    print(i)\n",
    "    i+=1"
   ]
  },
  {
   "cell_type": "code",
   "execution_count": 8,
   "id": "e711b7d8-93e6-4c05-9ec2-03130f7562b9",
   "metadata": {},
   "outputs": [
    {
     "name": "stdout",
     "output_type": "stream",
     "text": [
      "The sum of 1 to 10 is :  55\n"
     ]
    }
   ],
   "source": [
    "# 2. Calculate the sum of numbers from 1 to 10 uing a while loop.\n",
    "i=1\n",
    "sum=0\n",
    "while i<=10:\n",
    "    sum=sum+i \n",
    "    i=i+1\n",
    "    \n",
    "print(\"The sum of 1 to 10 is : \",sum)"
   ]
  },
  {
   "cell_type": "code",
   "execution_count": 11,
   "id": "fcc81608-71a3-4458-ab2a-30125140191f",
   "metadata": {},
   "outputs": [
    {
     "name": "stdout",
     "output_type": "stream",
     "text": [
      "The factorial of 5 is :  120\n"
     ]
    }
   ],
   "source": [
    "# 3. Calculate the factorial of a number using a for loop.\n",
    "n=5\n",
    "fact=1\n",
    "for i in range(1,n+1):\n",
    "    fact=fact*i\n",
    "print(\"The factorial of 5 is : \",fact)"
   ]
  },
  {
   "cell_type": "code",
   "execution_count": 17,
   "id": "e8547341-295a-4fe3-adfb-753432fa2413",
   "metadata": {},
   "outputs": [
    {
     "name": "stdout",
     "output_type": "stream",
     "text": [
      "Count of vowel is:  6\n"
     ]
    }
   ],
   "source": [
    "# 4.  Count the number of vowels in a string using a for loop.\n",
    "name=\"sanidul islam khan\"\n",
    "count=0\n",
    "for l in name:\n",
    "    if l==\"a\" or l==\"e\" or l==\"i\" or l==\"o\" or l==\"u\" or l==\"A\" or l==\"E\" or l==\"I\" or l==\"O\" or l==\"U\":\n",
    "        count=count+1\n",
    "print(\"Count of vowel is: \",count)"
   ]
  },
  {
   "cell_type": "code",
   "execution_count": 18,
   "id": "b6a7e836-16ea-4133-b9b2-3cfd1ac5563a",
   "metadata": {},
   "outputs": [
    {
     "name": "stdout",
     "output_type": "stream",
     "text": [
      "* \n",
      "* * \n",
      "* * * \n",
      "* * * * \n",
      "* * * * * \n"
     ]
    }
   ],
   "source": [
    "# 5.  Print a pattern using nested loops\n",
    "for i in range(5):\n",
    "    for j in range(i+1):\n",
    "        print(\"*\",end=\" \")\n",
    "    print()"
   ]
  },
  {
   "cell_type": "code",
   "execution_count": 19,
   "id": "dea89cdf-1322-4049-bd6f-4ee32dd3f2f8",
   "metadata": {},
   "outputs": [
    {
     "name": "stdout",
     "output_type": "stream",
     "text": [
      "1*1=1\t1*2=2\t1*3=3\t1*4=4\t1*5=5\t\n",
      "2*1=2\t2*2=4\t2*3=6\t2*4=8\t2*5=10\t\n",
      "3*1=3\t3*2=6\t3*3=9\t3*4=12\t3*5=15\t\n",
      "4*1=4\t4*2=8\t4*3=12\t4*4=16\t4*5=20\t\n",
      "5*1=5\t5*2=10\t5*3=15\t5*4=20\t5*5=25\t\n"
     ]
    }
   ],
   "source": [
    "# 6. Generate a multiplication table using nested loops.\n",
    "for i in range(1,6):\n",
    "    for j in range(1,6):\n",
    "        multiply=i*j\n",
    "        print(f\"{i}*{j}={multiply}\",end=\"\\t\")\n",
    "    print()"
   ]
  },
  {
   "cell_type": "code",
   "execution_count": null,
   "id": "a6f788d5-1058-4713-bbd2-25d28729f76d",
   "metadata": {},
   "outputs": [],
   "source": []
  }
 ],
 "metadata": {
  "kernelspec": {
   "display_name": "Python 3 (ipykernel)",
   "language": "python",
   "name": "python3"
  },
  "language_info": {
   "codemirror_mode": {
    "name": "ipython",
    "version": 3
   },
   "file_extension": ".py",
   "mimetype": "text/x-python",
   "name": "python",
   "nbconvert_exporter": "python",
   "pygments_lexer": "ipython3",
   "version": "3.10.8"
  }
 },
 "nbformat": 4,
 "nbformat_minor": 5
}
